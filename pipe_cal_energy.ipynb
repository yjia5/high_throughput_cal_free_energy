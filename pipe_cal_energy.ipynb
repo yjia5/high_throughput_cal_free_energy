{
 "cells": [
  {
   "cell_type": "code",
   "execution_count": 1,
   "id": "fe3952c1-cedd-4ce8-92a8-2683f7bb2c8f",
   "metadata": {},
   "outputs": [
    {
     "name": "stderr",
     "output_type": "stream",
     "text": [
      "/home/zeng/yinglu/.conda/envs/my_pymatgen/lib/python3.11/site-packages/tqdm/auto.py:21: TqdmWarning: IProgress not found. Please update jupyter and ipywidgets. See https://ipywidgets.readthedocs.io/en/stable/user_install.html\n",
      "  from .autonotebook import tqdm as notebook_tqdm\n"
     ]
    }
   ],
   "source": [
    "from pymatgen.ext.matproj import MPRester"
   ]
  },
  {
   "cell_type": "code",
   "execution_count": 2,
   "id": "d2086cf1-6eff-4a47-9348-e498ae406957",
   "metadata": {},
   "outputs": [],
   "source": [
    "import pymatgen.io.vasp.inputs as inp"
   ]
  },
  {
   "cell_type": "code",
   "execution_count": 3,
   "id": "9c316d17-4840-4a26-ad0f-3ee6adb3f092",
   "metadata": {},
   "outputs": [],
   "source": [
    "import pymatgen.io.vasp.sets as sets"
   ]
  },
  {
   "cell_type": "code",
   "execution_count": 4,
   "id": "28005b84-c488-417f-813e-4912d3aed2a8",
   "metadata": {},
   "outputs": [],
   "source": [
    "from pymatgen.io.vasp.sets import MPRelaxSet"
   ]
  },
  {
   "cell_type": "code",
   "execution_count": 5,
   "id": "1adcbe62-625b-4e33-b168-eeacc31f8360",
   "metadata": {},
   "outputs": [],
   "source": [
    "import numpy as np"
   ]
  },
  {
   "cell_type": "code",
   "execution_count": 6,
   "id": "12ed896d-a7e9-4da0-a7f0-ffa318c8b9f5",
   "metadata": {},
   "outputs": [],
   "source": [
    "import os"
   ]
  },
  {
   "cell_type": "code",
   "execution_count": 7,
   "id": "fab1b20c-d578-4a18-b7b2-981f298e17c3",
   "metadata": {},
   "outputs": [],
   "source": [
    "import subprocess"
   ]
  },
  {
   "cell_type": "code",
   "execution_count": 8,
   "id": "da1f5d8d-7329-4903-8a0f-9c1fb89af637",
   "metadata": {},
   "outputs": [],
   "source": [
    "# here the time should given user the permission to send parameters.\n",
    "def sbatch(\n",
    "    job_name, command, work_dir, time=48, mem=1, nodes=1, tasks=1, partition=\"batch\", dep=\"\"\n",
    "):\n",
    "    # jobs depend on the results of former jobs\n",
    "    print(\"dep is:\")\n",
    "    print(dep)\n",
    "    if dep != \"\":\n",
    "        dep = \"--dependency=afterok:{} --kill-on-invalid-dep=yes \".format(dep)\n",
    "        # print(dep)\n",
    "\n",
    "    # prepare a submitting file\n",
    "    print(\"The current directory is:\")\n",
    "    print(os.getcwd())\n",
    "    print(\"The work directory is:\")\n",
    "    print(work_dir)\n",
    "    file = open(work_dir + \"/sub.sh\", \"w\")\n",
    "    headline = \"#!/bin/bash\\n#SBATCH --time={}:00:00\\n#SBATCH --mem-per-cpu={}G\\n#SBATCH --job-name={}\\n#SBATCH --error={}.err\\n#SBATCH --output={}.out\\n#SBATCH --nodes={}\\n#SBATCH --ntasks-per-node={}\\n#SBATCH --partition={}\\n#SBATCH {}\\n\".format(\n",
    "        time, mem, job_name, job_name, job_name, nodes, tasks, partition, dep\n",
    "    )\n",
    "    loadline = \"module load compiler/intel/19 openmpi/4.1 vasp/6.2\\n\"\n",
    "\n",
    "    comline = command\n",
    "\n",
    "    # Writing a string to file\n",
    "    file.write(headline)\n",
    "    file.write(loadline)\n",
    "    file.write(comline)\n",
    "\n",
    "    # Closing file\n",
    "    file.close()\n",
    "\n",
    "    sbatch_command = \"sbatch --parsable sub.sh\"\n",
    "    sbatch_response = subprocess.getoutput(sbatch_command)\n",
    "    job_id = sbatch_response.split(\" \")[-1].strip()\n",
    "\n",
    "    return job_id"
   ]
  },
  {
   "cell_type": "code",
   "execution_count": 9,
   "id": "db2c1637-b0b6-4555-89e0-f8a728a6144b",
   "metadata": {},
   "outputs": [],
   "source": [
    "work_dir = \"YOUR OWN WORKDIR\"\n",
    "os.chdir(work_dir)"
   ]
  },
  {
   "cell_type": "code",
   "execution_count": 10,
   "id": "e1bdeb10-af49-4637-83f5-e3b5eef06a00",
   "metadata": {},
   "outputs": [
    {
     "name": "stderr",
     "output_type": "stream",
     "text": [
      "/home/zeng/yinglu/.conda/envs/my_pymatgen/lib/python3.11/site-packages/mp_api/client/mprester.py:182: UserWarning: mpcontribs-client not installed. Install the package to query MPContribs data, or construct pourbaix diagrams: 'pip install mpcontribs-client'\n",
      "  warnings.warn(\n"
     ]
    },
    {
     "name": "stdout",
     "output_type": "stream",
     "text": [
      "Ca\n"
     ]
    },
    {
     "name": "stderr",
     "output_type": "stream",
     "text": [
      "Retrieving SummaryDoc documents: 100%|██████████| 12/12 [00:00<00:00, 320583.75it/s]\n"
     ]
    },
    {
     "name": "stdout",
     "output_type": "stream",
     "text": [
      "12\n",
      "0.0\n"
     ]
    },
    {
     "name": "stderr",
     "output_type": "stream",
     "text": [
      "Retrieving MaterialsDoc documents: 100%|██████████| 1/1 [00:00<00:00, 26214.40it/s]\n",
      "/home/zeng/yinglu/.conda/envs/my_pymatgen/lib/python3.11/site-packages/pymatgen/io/vasp/sets.py:408: BadInputSetWarning: Overriding the POTCAR functional is generally not recommended  as it significantly affect the results of calculations and compatibility with other calculations done with the same input set. Note that some POTCAR symbols specified in the configuration file may not be available in the selected functional.\n",
      "  warnings.warn(\n",
      "/home/zeng/yinglu/.conda/envs/my_pymatgen/lib/python3.11/site-packages/pymatgen/io/vasp/sets.py:591: BadInputSetWarning: Relaxation of likely metal with ISMEAR < 1 detected. Please see VASP recommendations on ISMEAR for metals.\n",
      "  warnings.warn(\n"
     ]
    },
    {
     "name": "stdout",
     "output_type": "stream",
     "text": [
      "dep is:\n",
      "\n",
      "The current directory is:\n",
      "/lustre/work/zeng/yinglu/project/cai2/energy/Ca\n",
      "The work directory is:\n",
      "/work/zeng/yinglu/project/cai2/energy/Ca\n",
      "3036267\n",
      "CaCl2\n"
     ]
    },
    {
     "name": "stderr",
     "output_type": "stream",
     "text": [
      "Retrieving SummaryDoc documents: 100%|██████████| 5/5 [00:00<00:00, 165130.08it/s]\n"
     ]
    },
    {
     "name": "stdout",
     "output_type": "stream",
     "text": [
      "5\n",
      "0.0\n"
     ]
    },
    {
     "name": "stderr",
     "output_type": "stream",
     "text": [
      "Retrieving MaterialsDoc documents: 100%|██████████| 1/1 [00:00<00:00, 19418.07it/s]"
     ]
    },
    {
     "name": "stdout",
     "output_type": "stream",
     "text": [
      "dep is:\n",
      "\n",
      "The current directory is:\n",
      "/lustre/work/zeng/yinglu/project/cai2/energy/CaCl2\n",
      "The work directory is:\n",
      "/work/zeng/yinglu/project/cai2/energy/CaCl2\n",
      "3036268\n"
     ]
    },
    {
     "name": "stderr",
     "output_type": "stream",
     "text": [
      "\n"
     ]
    }
   ],
   "source": [
    "with MPRester(\"YOUR OWN PASSWORD\") as m:\n",
    "    chemicals = [\"Pt\", \"PtCl4\", \"Sn\", \"SnCl2\", \"Bi\", \"BiCl3\", \"Mn\", \"MnCl2\", \"Cu\", \"CuCl2\", \"La\", \"LaCl3\", \"Pd\", \"PdCl2\", \"Mg\", \"MgCl2\", \"Ta\", \"TaCl5\", \"Hf\", \"HfCl4\"]\n",
    "\n",
    "    for chemical in chemicals:\n",
    "        # find all of the ones that has a composition given. The data needed are only \"composition\", \"material_id\", \"energy_above_hull\"\n",
    "        print(chemical)\n",
    "        docs = m.summary.search(formula=chemical, fields = [\"composition\", \"material_id\", \"energy_above_hull\", 'theoretical'])\n",
    "        print(len(docs))\n",
    "\n",
    "        # decide the structure that contains the smallest energy based on the convex hull energy\n",
    "        energy = np.zeros(len(docs))\n",
    "        for i in np.arange(len(docs)):\n",
    "            energy[i] = docs[i].energy_above_hull\n",
    "        # get the structure\n",
    "        min_index = energy.argmin()\n",
    "        print(docs[min_index].energy_above_hull)\n",
    "        structure = m.get_structure_by_material_id(docs[min_index].material_id)\n",
    "        \n",
    "        # then create a vasp job to run the calculation\n",
    "        # make a directory\n",
    "        chemical_dir = work_dir + \"/\" + chemical\n",
    "        if not os.path.exists(chemical_dir):\n",
    "            os.makedirs(chemical_dir)\n",
    "\n",
    "        my_custom_input_set = MPRelaxSet(structure, user_incar_settings={\"EDIFF\":1E-6, \"EDIFFG\":-0.02, \"ISMEAR\":0, \"NSW\": 200, \"NPAR\":6}, user_kpoints_settings={\"reciprocal_density\":100}, user_potcar_functional='PBE_52')\n",
    "        my_custom_input_set.write_input(chemical_dir)\n",
    "        os.chdir(chemical_dir)\n",
    "        command = \"mpirun vasp_std\"\n",
    "        job_ID = sbatch(job_name=chemical, command = command, work_dir = chemical_dir, tasks=36)\n",
    "        print(job_ID)\n",
    "        os.chdir(work_dir)"
   ]
  },
  {
   "cell_type": "code",
   "execution_count": null,
   "id": "afa844a8-8cf8-4c28-9db0-56427367c526",
   "metadata": {},
   "outputs": [],
   "source": []
  }
 ],
 "metadata": {
  "kernelspec": {
   "display_name": "Python (my_pymatgen)",
   "language": "python",
   "name": "my_pymatgen"
  },
  "language_info": {
   "codemirror_mode": {
    "name": "ipython",
    "version": 3
   },
   "file_extension": ".py",
   "mimetype": "text/x-python",
   "name": "python",
   "nbconvert_exporter": "python",
   "pygments_lexer": "ipython3",
   "version": "3.11.4"
  }
 },
 "nbformat": 4,
 "nbformat_minor": 5
}
